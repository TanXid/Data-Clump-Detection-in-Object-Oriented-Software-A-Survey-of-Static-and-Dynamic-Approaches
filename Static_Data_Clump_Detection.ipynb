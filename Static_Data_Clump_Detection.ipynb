{
  "nbformat": 4,
  "nbformat_minor": 0,
  "metadata": {
    "colab": {
      "provenance": []
    },
    "kernelspec": {
      "name": "python3",
      "display_name": "Python 3"
    },
    "language_info": {
      "name": "python"
    }
  },
  "cells": [
    {
      "cell_type": "code",
      "execution_count": 1,
      "metadata": {
        "colab": {
          "base_uri": "https://localhost:8080/"
        },
        "id": "NJE73l2SNvRx",
        "outputId": "0c3892f2-86f5-438b-be70-73272685cb15"
      },
      "outputs": [
        {
          "output_type": "stream",
          "name": "stdout",
          "text": [
            "No Data Clumps Detected\n"
          ]
        }
      ],
      "source": [
        "import ast\n",
        "from collections import defaultdict\n",
        "\n",
        "def find_data_clumps(code):\n",
        "    tree = ast.parse(code)\n",
        "\n",
        "    # Dictionary to store variable occurrences\n",
        "    variable_occurrences = defaultdict(list)\n",
        "\n",
        "    # Traverse the abstract syntax tree\n",
        "    for node in ast.walk(tree):\n",
        "        if isinstance(node, ast.Assign):\n",
        "            for target in node.targets:\n",
        "                if isinstance(target, ast.Name):\n",
        "                    variable_occurrences[target.id].append(node)\n",
        "\n",
        "    # Find data clumps\n",
        "    data_clumps = []\n",
        "    for variable, occurrences in variable_occurrences.items():\n",
        "        if len(occurrences) > 1:\n",
        "            data_clumps.append((variable, occurrences))\n",
        "\n",
        "    return data_clumps\n",
        "\n",
        "\n",
        "# Example usage\n",
        "code = \"\"\"\n",
        "x = 10\n",
        "y = 20\n",
        "z = 30\n",
        "\n",
        "a = 40\n",
        "b = 50\n",
        "c = 60\n",
        "\n",
        "x1 = 100\n",
        "y1 = 200\n",
        "z1 = 300\n",
        "\"\"\"\n",
        "\n",
        "data_clumps = find_data_clumps(code)\n",
        "\n",
        "if data_clumps:\n",
        "    print(\"Data Clumps Detected:\")\n",
        "    for variable, occurrences in data_clumps:\n",
        "        print(f\"Variable: {variable}, Occurrences: {len(occurrences)}\")\n",
        "        for occurrence in occurrences:\n",
        "            print(f\"  Line {occurrence.lineno}: {ast.get_source_segment(code, occurrence)}\")\n",
        "else:\n",
        "    print(\"No Data Clumps Detected\")\n"
      ]
    },
    {
      "cell_type": "code",
      "source": [
        "import ast\n",
        "from collections import defaultdict\n",
        "\n",
        "def find_data_clumps(code):\n",
        "    tree = ast.parse(code)\n",
        "\n",
        "    # Dictionary to store variable occurrences\n",
        "    variable_occurrences = defaultdict(list)\n",
        "\n",
        "    # Traverse the abstract syntax tree\n",
        "    for node in ast.walk(tree):\n",
        "        if isinstance(node, ast.Assign):\n",
        "            for target in node.targets:\n",
        "                if isinstance(target, ast.Name):\n",
        "                    variable_occurrences[target.id].append(node)\n",
        "\n",
        "    # Find data clumps\n",
        "    data_clumps = []\n",
        "    for variable, occurrences in variable_occurrences.items():\n",
        "        if len(occurrences) > 1:\n",
        "            data_clumps.append((variable, occurrences))\n",
        "\n",
        "    return data_clumps\n",
        "\n",
        "# Example usage\n",
        "code = \"\"\"\n",
        "x1 = 10\n",
        "y1 = 20\n",
        "z1 = 30\n",
        "\n",
        "a = 40\n",
        "b = 50\n",
        "c = 60\n",
        "\n",
        "x1 = 100\n",
        "y1 = 200\n",
        "z1 = 300\n",
        "\"\"\"\n",
        "\n",
        "data_clumps = find_data_clumps(code)\n",
        "\n",
        "if data_clumps:\n",
        "    print(\"Data Clumps Detected:\")\n",
        "    for variable, occurrences in data_clumps:\n",
        "        print(f\"Variable: {variable}, Occurrences: {len(occurrences)}\")\n",
        "        for occurrence in occurrences:\n",
        "            print(f\"  Line {occurrence.lineno}: {ast.get_source_segment(code, occurrence)}\")\n",
        "else:\n",
        "    print(\"No Data Clumps Detected\")\n"
      ],
      "metadata": {
        "colab": {
          "base_uri": "https://localhost:8080/"
        },
        "id": "2ggrqoinN59o",
        "outputId": "32b557f5-e09b-45aa-8eb2-de313cc3da60"
      },
      "execution_count": 2,
      "outputs": [
        {
          "output_type": "stream",
          "name": "stdout",
          "text": [
            "Data Clumps Detected:\n",
            "Variable: x1, Occurrences: 2\n",
            "  Line 2: x1 = 10\n",
            "  Line 10: x1 = 100\n",
            "Variable: y1, Occurrences: 2\n",
            "  Line 3: y1 = 20\n",
            "  Line 11: y1 = 200\n",
            "Variable: z1, Occurrences: 2\n",
            "  Line 4: z1 = 30\n",
            "  Line 12: z1 = 300\n"
          ]
        }
      ]
    }
  ]
}